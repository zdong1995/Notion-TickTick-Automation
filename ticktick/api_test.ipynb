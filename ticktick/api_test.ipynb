{
 "cells": [
  {
   "cell_type": "code",
   "execution_count": 1,
   "metadata": {},
   "outputs": [
    {
     "name": "stdout",
     "output_type": "stream",
     "text": [
      "0CAB80045A64122B50170BD54914ED569D0EAFE19D11963E7933C0D1684FB0B1A9DB151A7880750D7249912EDCEAF47D3BB6F3F7C7FAF7E74198126F9DC30A7DA703C92AD4F5F477EBA9AFD5278B4AAA9BA7B2ED506A4315E445F08A414DDC561957599991C53571EAED289DCA205F74711F9CAEDB90785891D416914ECCC6511957599991C53571B06780583E902F5F7EBE1693588CC98B86E0ACC1E9FA90585741F1232E843C36ACE730BDF52673BB\n"
     ]
    }
   ],
   "source": [
    "from ticktick_manager import TicktickManager\n",
    "from utils import Utils\n",
    "\n",
    "tt = TicktickManager()"
   ]
  },
  {
   "cell_type": "markdown",
   "metadata": {},
   "source": [
    "### Test Task Manager"
   ]
  },
  {
   "cell_type": "code",
   "execution_count": 3,
   "metadata": {},
   "outputs": [
    {
     "name": "stdout",
     "output_type": "stream",
     "text": [
      "{\n",
      "    \"id\": \"67d0d88d8f081aec2c69757a\",\n",
      "    \"projectId\": \"inbox118259505\",\n",
      "    \"sortOrder\": -4611812600173363200,\n",
      "    \"title\": \"test_task\",\n",
      "    \"timeZone\": \"\",\n",
      "    \"isFloating\": false,\n",
      "    \"reminder\": \"\",\n",
      "    \"reminders\": [],\n",
      "    \"priority\": 1,\n",
      "    \"status\": 0,\n",
      "    \"items\": [],\n",
      "    \"modifiedTime\": \"2025-03-12T00:42:53.754+0000\",\n",
      "    \"etag\": \"gdzvn7u5\",\n",
      "    \"deleted\": 0,\n",
      "    \"createdTime\": \"2025-03-12T00:42:53.754+0000\",\n",
      "    \"creator\": 118259505,\n",
      "    \"tags\": [],\n",
      "    \"kind\": \"TEXT\"\n",
      "}\n"
     ]
    }
   ],
   "source": [
    "# add new task\n",
    "task_id = tt.task_manager.add_new_task(task={\"title\": \"test_task\", \"priority\": 1})\n",
    "task = tt.task_manager.get_task_by_id(task_id)\n",
    "Utils.json_pretty_print(task)"
   ]
  },
  {
   "cell_type": "code",
   "execution_count": 4,
   "metadata": {},
   "outputs": [
    {
     "name": "stdout",
     "output_type": "stream",
     "text": [
      "{\n",
      "    \"id\": \"6589f8118f0809c9fc092af1\",\n",
      "    \"projectId\": \"inbox118259505\",\n",
      "    \"sortOrder\": -4611760373318549776,\n",
      "    \"title\": \"test_updated_name\",\n",
      "    \"timeZone\": \"\",\n",
      "    \"isFloating\": false,\n",
      "    \"reminder\": \"\",\n",
      "    \"reminders\": [],\n",
      "    \"priority\": 0,\n",
      "    \"status\": 0,\n",
      "    \"items\": [],\n",
      "    \"modifiedTime\": \"2023-12-25T21:45:53.508+0000\",\n",
      "    \"etag\": \"7j0ac928\",\n",
      "    \"deleted\": 0,\n",
      "    \"createdTime\": \"2023-12-25T21:45:53.508+0000\",\n",
      "    \"creator\": 118259505,\n",
      "    \"kind\": \"TEXT\"\n",
      "}\n"
     ]
    }
   ],
   "source": [
    "# update existing task\n",
    "tt.task_manager.update_task(task_id, task={\"title\": \"test_updated_name\"})\n",
    "updated_task = tt.task_manager.get_task_by_id(task_id)\n",
    "Utils.json_pretty_print(updated_task)"
   ]
  },
  {
   "cell_type": "code",
   "execution_count": 3,
   "metadata": {},
   "outputs": [
    {
     "name": "stdout",
     "output_type": "stream",
     "text": [
      "0\n"
     ]
    },
    {
     "data": {
      "text/plain": [
       "10800"
      ]
     },
     "execution_count": 3,
     "metadata": {},
     "output_type": "execute_result"
    }
   ],
   "source": [
    "tt.task_manager.get_task_focus_duration(task_id)\n",
    "# after logged focus time for task and subtasks\n",
    "tt.task_manager.get_task_focus_duration('658751b48f08f94f2a924190')"
   ]
  },
  {
   "cell_type": "code",
   "execution_count": 5,
   "metadata": {},
   "outputs": [
    {
     "name": "stdout",
     "output_type": "stream",
     "text": [
      "{\n",
      "    \"id\": \"658a11328f0809c9fc0b43e8\",\n",
      "    \"projectId\": \"inbox118259505\",\n",
      "    \"sortOrder\": -4611762572341805328,\n",
      "    \"title\": \"test_task1\",\n",
      "    \"timeZone\": \"\",\n",
      "    \"isFloating\": false,\n",
      "    \"reminder\": \"\",\n",
      "    \"reminders\": [],\n",
      "    \"priority\": 0,\n",
      "    \"status\": 0,\n",
      "    \"items\": [],\n",
      "    \"modifiedTime\": \"2023-12-25T23:33:06.565+0000\",\n",
      "    \"etag\": \"xiph3nqs\",\n",
      "    \"deleted\": 0,\n",
      "    \"createdTime\": \"2023-12-25T23:33:06.565+0000\",\n",
      "    \"creator\": 118259505,\n",
      "    \"kind\": \"TEXT\"\n",
      "}\n",
      "{\n",
      "    \"id\": \"658a11328f0809c9fc0b43e9\",\n",
      "    \"projectId\": \"inbox118259505\",\n",
      "    \"sortOrder\": -4611762572341805328,\n",
      "    \"title\": \"test_task2\",\n",
      "    \"timeZone\": \"\",\n",
      "    \"isFloating\": false,\n",
      "    \"reminder\": \"\",\n",
      "    \"reminders\": [],\n",
      "    \"priority\": 0,\n",
      "    \"status\": 0,\n",
      "    \"items\": [],\n",
      "    \"modifiedTime\": \"2023-12-25T23:33:06.568+0000\",\n",
      "    \"etag\": \"3v4zcwci\",\n",
      "    \"deleted\": 0,\n",
      "    \"createdTime\": \"2023-12-25T23:33:06.568+0000\",\n",
      "    \"creator\": 118259505,\n",
      "    \"kind\": \"TEXT\"\n",
      "}\n"
     ]
    }
   ],
   "source": [
    "# batch add tasks\n",
    "task_ids = tt.task_manager.batch_add_tasks([{\"title\": \"test_task1\"}, {\"title\": \"test_task2\"}])\n",
    "for id in task_ids:\n",
    "    Utils.json_pretty_print(tt.task_manager.get_task_by_id(id))"
   ]
  },
  {
   "cell_type": "markdown",
   "metadata": {},
   "source": [
    "### Test Project Manager"
   ]
  },
  {
   "cell_type": "code",
   "execution_count": 2,
   "metadata": {},
   "outputs": [
    {
     "name": "stdout",
     "output_type": "stream",
     "text": [
      "{\n",
      "    \"id\": \"658a13c38f084c95c0a066d7\",\n",
      "    \"name\": \"test_new_project\",\n",
      "    \"isOwner\": true,\n",
      "    \"color\": null,\n",
      "    \"inAll\": true,\n",
      "    \"sortOrder\": 0,\n",
      "    \"sortOption\": null,\n",
      "    \"sortType\": null,\n",
      "    \"userCount\": 1,\n",
      "    \"etag\": \"cpgcdnn9\",\n",
      "    \"modifiedTime\": \"2023-12-25T23:44:03.963+0000\",\n",
      "    \"closed\": null,\n",
      "    \"muted\": false,\n",
      "    \"transferred\": null,\n",
      "    \"groupId\": null,\n",
      "    \"viewMode\": null,\n",
      "    \"notificationOptions\": null,\n",
      "    \"teamId\": null,\n",
      "    \"permission\": null,\n",
      "    \"kind\": null,\n",
      "    \"timeline\": null,\n",
      "    \"needAudit\": true,\n",
      "    \"openToTeam\": null,\n",
      "    \"teamMemberPermission\": null,\n",
      "    \"source\": 1\n",
      "}\n"
     ]
    }
   ],
   "source": [
    "# create new project\n",
    "project_id = tt.project_manager.add_new_project({\"name\": \"test_new_project\"})\n",
    "Utils.json_pretty_print(tt.project_manager.get_project_by_id(project_id))"
   ]
  },
  {
   "cell_type": "code",
   "execution_count": 3,
   "metadata": {},
   "outputs": [
    {
     "name": "stdout",
     "output_type": "stream",
     "text": [
      "{\n",
      "    \"id\": \"658a13c38f084c95c0a066d7\",\n",
      "    \"name\": \"test_project_updated\",\n",
      "    \"isOwner\": true,\n",
      "    \"color\": null,\n",
      "    \"inAll\": true,\n",
      "    \"sortOrder\": 0,\n",
      "    \"sortOption\": null,\n",
      "    \"sortType\": null,\n",
      "    \"userCount\": 1,\n",
      "    \"etag\": \"iutp0ae2\",\n",
      "    \"modifiedTime\": \"2023-12-25T23:44:08.042+0000\",\n",
      "    \"closed\": null,\n",
      "    \"muted\": false,\n",
      "    \"transferred\": null,\n",
      "    \"groupId\": null,\n",
      "    \"viewMode\": null,\n",
      "    \"notificationOptions\": null,\n",
      "    \"teamId\": null,\n",
      "    \"permission\": null,\n",
      "    \"kind\": null,\n",
      "    \"timeline\": null,\n",
      "    \"needAudit\": true,\n",
      "    \"openToTeam\": null,\n",
      "    \"teamMemberPermission\": null,\n",
      "    \"source\": 1\n",
      "}\n"
     ]
    }
   ],
   "source": [
    "# update project\n",
    "tt.project_manager.update_project(project_id, {\"name\": \"test_project_updated\"})\n",
    "Utils.json_pretty_print(tt.project_manager.get_project_by_id(project_id))"
   ]
  },
  {
   "cell_type": "code",
   "execution_count": 5,
   "metadata": {},
   "outputs": [
    {
     "name": "stdout",
     "output_type": "stream",
     "text": [
      "[]\n",
      "658a14118f084c95c0a069a9\n",
      "[\n",
      "    {\n",
      "        \"id\": \"658a14118f084c95c0a069a9\",\n",
      "        \"projectId\": \"658a13c38f084c95c0a066d7\",\n",
      "        \"name\": \"section2\",\n",
      "        \"createdTime\": \"2023-12-25T23:45:21.663+0000\",\n",
      "        \"modifiedTime\": \"2023-12-25T23:45:21.663+0000\",\n",
      "        \"etag\": \"wlb7mc37\"\n",
      "    },\n",
      "    {\n",
      "        \"id\": \"658a14118f084c95c0a069a8\",\n",
      "        \"projectId\": \"658a13c38f084c95c0a066d7\",\n",
      "        \"name\": \"section1\",\n",
      "        \"createdTime\": \"2023-12-25T23:45:21.660+0000\",\n",
      "        \"modifiedTime\": \"2023-12-25T23:45:21.660+0000\",\n",
      "        \"etag\": \"1ft0x2v3\"\n",
      "    }\n",
      "]\n"
     ]
    }
   ],
   "source": [
    "# add sections to existing project\n",
    "Utils.json_pretty_print(tt.project_manager.get_all_project_sections(project_id))\n",
    "tt.project_manager.add_new_project_section(project_id, [\"section1\", \"section2\"])\n",
    "Utils.json_pretty_print(tt.project_manager.get_all_project_sections(project_id))"
   ]
  },
  {
   "cell_type": "code",
   "execution_count": 2,
   "metadata": {},
   "outputs": [
    {
     "name": "stdout",
     "output_type": "stream",
     "text": [
      "{\n",
      "    \"id\": \"658a14118f084c95c0a069a9\",\n",
      "    \"projectId\": \"658a13c38f084c95c0a066d7\",\n",
      "    \"name\": \"updated_section_name\",\n",
      "    \"createdTime\": \"2023-12-25T23:45:21.663+0000\",\n",
      "    \"modifiedTime\": \"2023-12-25T23:47:55.814+0000\",\n",
      "    \"etag\": \"mx1pffzk\"\n",
      "}\n"
     ]
    }
   ],
   "source": [
    "# update project section name\n",
    "tt.project_manager.update_project_section_name('658a14118f084c95c0a069a9', project_id, 'updated_section_name')\n",
    "Utils.json_pretty_print(tt.project_manager.get_project_section('658a14118f084c95c0a069a9', project_id))"
   ]
  },
  {
   "cell_type": "markdown",
   "metadata": {},
   "source": [
    "### Reference\n",
    "\n",
    "1. Example of completed JSON field for `https://api.ticktick.com/api/v2/task/{task_id}` endpoint.\n",
    "\n",
    "```\n",
    "{\n",
    "    \"id\": \"658751b48f08f94f2a924190\",\n",
    "    \"projectId\": \"inbox118259505\",\n",
    "    \"sortOrder\": -4611753226492968960,\n",
    "    \"title\": \"test_task\",\n",
    "    \"content\": \"\",\n",
    "    \"desc\": \"\",\n",
    "    \"startDate\": \"2023-12-23T05:00:00.000+0000\",\n",
    "    \"dueDate\": \"2023-12-23T05:00:00.000+0000\",\n",
    "    \"timeZone\": \"America/New_York\",\n",
    "    \"isFloating\": false,\n",
    "    \"isAllDay\": true,\n",
    "    \"reminders\": [],\n",
    "    \"exDate\": [],\n",
    "    \"priority\": 0,\n",
    "    \"status\": 0,\n",
    "    \"items\": [],\n",
    "    \"progress\": 0,\n",
    "    \"modifiedTime\": \"2023-12-23T22:23:57.000+0000\",\n",
    "    \"etag\": \"twszml7o\",\n",
    "    \"deleted\": 0,\n",
    "    \"createdTime\": \"2023-12-23T21:31:32.614+0000\",\n",
    "    \"creator\": 187289403,\n",
    "    \"repeatFrom\": \"2\",\n",
    "    \"pomodoroSummaries\": [\n",
    "        {\n",
    "            \"userId\": 187289403,\n",
    "            \"count\": 0,\n",
    "            \"estimatedPomo\": 0,\n",
    "            \"duration\": 0\n",
    "        }\n",
    "    ],\n",
    "    \"focusSummaries\": [\n",
    "        {\n",
    "            \"userId\": 187289403,\n",
    "            \"pomoCount\": 0,\n",
    "            \"estimatedPomo\": 0,\n",
    "            \"estimatedDuration\": 0,\n",
    "            \"pomoDuration\": 0,\n",
    "            \"stopwatchDuration\": 0,\n",
    "            \"focuses\": [\n",
    "                [\n",
    "                    \"658751df373a918251e818a2\",\n",
    "                    1,\n",
    "                    2700\n",
    "                ],\n",
    "                [\n",
    "                    \"658752243f6fd18251e81919\",\n",
    "                    0,\n",
    "                    2700\n",
    "                ]\n",
    "            ]\n",
    "        }\n",
    "    ],\n",
    "    \"childIds\": [\n",
    "        \"65875231c2d5118251e8193b\",\n",
    "        \"6587523e48bad18251e81945\"\n",
    "    ],\n",
    "    \"kind\": \"TEXT\"\n",
    "}\n",
    "```\n",
    "\n",
    "2. Example of completed JSON field for `https://api.ticktick.com/api/v2/batch/task` endpoint.\n",
    "\n",
    "```\n",
    "{\n",
    "    \"add\": [\n",
    "        {\n",
    "            \"items\": [],\n",
    "            \"reminders\": [],\n",
    "            \"exDate\": [],\n",
    "            \"dueDate\": null,\n",
    "            \"priority\": 0,\n",
    "            \"isAllDay\": true,\n",
    "            \"progress\": 0,\n",
    "            \"assignee\": null,\n",
    "            \"sortOrder\": -1099511627776,\n",
    "            \"startDate\": null,\n",
    "            \"isFloating\": false,\n",
    "            \"columnId\": \"657f73418f085683ee3dc366\",\n",
    "            \"status\": 0,\n",
    "            \"projectId\": \"657f723f8f085683ee3db584\",\n",
    "            \"kind\": \"TEXT\",\n",
    "            \"createdTime\": \"2023-12-17T22:57:22.000+0000\",\n",
    "            \"modifiedTime\": \"2023-12-17T22:57:22.000+0000\",\n",
    "            \"title\": \"\",\n",
    "            \"tags\": [],\n",
    "            \"timeZone\": \"America/New_York\",\n",
    "            \"content\": \"\",\n",
    "            \"id\": \"657f7cd2518841786580646d\"\n",
    "        }\n",
    "    ],\n",
    "    \"update\": [],\n",
    "    \"delete\": [],\n",
    "    \"addAttachments\": [],\n",
    "    \"updateAttachments\": [],\n",
    "    \"deleteAttachments\": []\n",
    "}\n",
    "```\n",
    "\n",
    "3. Example of completed field for `https://api.ticktick.com/api/v2/column` endpoint.\n",
    "\n",
    "```\n",
    "{\n",
    "    \"add\": [\n",
    "        {\n",
    "            \"id\": \"657f7fdf51884178658064ce\",\n",
    "            \"userId\": 118259505,\n",
    "            \"createdTime\": \"2023-12-17T23:10:23.329+0000\",\n",
    "            \"name\": \"Section 3\",\n",
    "            \"projectId\": \"657f723f8f085683ee3db584\",\n",
    "            \"sortOrder\": 0\n",
    "        }\n",
    "    ],\n",
    "    \"update\": [\n",
    "        {\n",
    "            \"id\": \"657f73268f085683ee3dc1af\",\n",
    "            \"projectId\": \"657f723f8f085683ee3db584\",\n",
    "            \"name\": \"Section1\",\n",
    "            \"createdTime\": \"2023-12-17T22:16:06.828+0000\",\n",
    "            \"modifiedTime\": \"2023-12-17T22:16:06.828+0000\",\n",
    "            \"etag\": \"waiot6f3\",\n",
    "            \"sortOrder\": 2199023255552\n",
    "        }\n",
    "    ],\n",
    "    \"delete\": []\n",
    "}\n",
    "```"
   ]
  },
  {
   "cell_type": "markdown",
   "metadata": {},
   "source": []
  }
 ],
 "metadata": {
  "kernelspec": {
   "display_name": "base",
   "language": "python",
   "name": "python3"
  },
  "language_info": {
   "codemirror_mode": {
    "name": "ipython",
    "version": 3
   },
   "file_extension": ".py",
   "mimetype": "text/x-python",
   "name": "python",
   "nbconvert_exporter": "python",
   "pygments_lexer": "ipython3",
   "version": "3.9.15"
  }
 },
 "nbformat": 4,
 "nbformat_minor": 2
}
