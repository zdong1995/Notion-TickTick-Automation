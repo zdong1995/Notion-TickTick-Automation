{
 "cells": [
  {
   "cell_type": "code",
   "execution_count": 1,
   "metadata": {},
   "outputs": [],
   "source": [
    "from ticktick_manager import TicktickManager\n",
    "\n",
    "tt = TicktickManager()"
   ]
  },
  {
   "cell_type": "markdown",
   "metadata": {},
   "source": [
    "### Test Task Manager"
   ]
  },
  {
   "cell_type": "code",
   "execution_count": 2,
   "metadata": {},
   "outputs": [
    {
     "name": "stdout",
     "output_type": "stream",
     "text": [
      "https://api.ticktick.com/api/v2/task\n",
      "{\n",
      "    \"id\": \"657fab748f0800e10f772e95\",\n",
      "    \"projectId\": \"inbox118259505\",\n",
      "    \"sortOrder\": -4611768619654709248,\n",
      "    \"title\": \"test_task\",\n",
      "    \"timeZone\": \"\",\n",
      "    \"isFloating\": false,\n",
      "    \"reminder\": \"\",\n",
      "    \"reminders\": [],\n",
      "    \"priority\": 0,\n",
      "    \"status\": 0,\n",
      "    \"items\": [],\n",
      "    \"modifiedTime\": \"2023-12-18T02:16:20.061+0000\",\n",
      "    \"etag\": \"7jokvfi3\",\n",
      "    \"deleted\": 0,\n",
      "    \"createdTime\": \"2023-12-18T02:16:20.061+0000\",\n",
      "    \"creator\": 118259505,\n",
      "    \"tags\": [],\n",
      "    \"kind\": \"TEXT\"\n",
      "}\n",
      "https://api.ticktick.com/api/v2/task/657fab748f0800e10f772e95\n",
      "{\n",
      "    \"id\": \"657fab748f0800e10f772e95\",\n",
      "    \"projectId\": \"inbox118259505\",\n",
      "    \"sortOrder\": -4611768619654709248,\n",
      "    \"title\": \"test_task\",\n",
      "    \"timeZone\": \"\",\n",
      "    \"isFloating\": false,\n",
      "    \"reminder\": \"\",\n",
      "    \"reminders\": [],\n",
      "    \"priority\": 0,\n",
      "    \"status\": 0,\n",
      "    \"items\": [],\n",
      "    \"modifiedTime\": \"2023-12-18T02:16:20.061+0000\",\n",
      "    \"etag\": \"7jokvfi3\",\n",
      "    \"deleted\": 0,\n",
      "    \"createdTime\": \"2023-12-18T02:16:20.061+0000\",\n",
      "    \"creator\": 118259505,\n",
      "    \"tags\": [],\n",
      "    \"kind\": \"TEXT\"\n",
      "}\n"
     ]
    }
   ],
   "source": [
    "# add single task\n",
    "task_id = tt.task_manager.add_new_task(task={\"title\": \"test_task\"})\n",
    "tt.task_manager.get_task_by_id(task_id)"
   ]
  },
  {
   "cell_type": "code",
   "execution_count": 3,
   "metadata": {},
   "outputs": [
    {
     "name": "stdout",
     "output_type": "stream",
     "text": [
      "https://api.ticktick.com/api/v2/batch/task\n",
      "{\n",
      "    \"id2etag\": {\n",
      "        \"657fab808f0800e10f772f08\": \"fn4tha2t\",\n",
      "        \"657fab808f0800e10f772f09\": \"fresiz7r\"\n",
      "    },\n",
      "    \"id2error\": {}\n",
      "}\n",
      "https://api.ticktick.com/api/v2/task/657fab808f0800e10f772f08\n",
      "{\n",
      "    \"id\": \"657fab808f0800e10f772f08\",\n",
      "    \"projectId\": \"inbox118259505\",\n",
      "    \"sortOrder\": -4611769719166337024,\n",
      "    \"title\": \"test_task1\",\n",
      "    \"timeZone\": \"\",\n",
      "    \"isFloating\": false,\n",
      "    \"reminder\": \"\",\n",
      "    \"reminders\": [],\n",
      "    \"priority\": 0,\n",
      "    \"status\": 0,\n",
      "    \"items\": [],\n",
      "    \"modifiedTime\": \"2023-12-18T02:16:32.581+0000\",\n",
      "    \"etag\": \"fn4tha2t\",\n",
      "    \"deleted\": 0,\n",
      "    \"createdTime\": \"2023-12-18T02:16:32.581+0000\",\n",
      "    \"creator\": 118259505,\n",
      "    \"kind\": \"TEXT\"\n",
      "}\n",
      "https://api.ticktick.com/api/v2/task/657fab808f0800e10f772f09\n",
      "{\n",
      "    \"id\": \"657fab808f0800e10f772f09\",\n",
      "    \"projectId\": \"inbox118259505\",\n",
      "    \"sortOrder\": -4611769719166337024,\n",
      "    \"title\": \"test_task2\",\n",
      "    \"timeZone\": \"\",\n",
      "    \"isFloating\": false,\n",
      "    \"reminder\": \"\",\n",
      "    \"reminders\": [],\n",
      "    \"priority\": 0,\n",
      "    \"status\": 0,\n",
      "    \"items\": [],\n",
      "    \"modifiedTime\": \"2023-12-18T02:16:32.585+0000\",\n",
      "    \"etag\": \"fresiz7r\",\n",
      "    \"deleted\": 0,\n",
      "    \"createdTime\": \"2023-12-18T02:16:32.585+0000\",\n",
      "    \"creator\": 118259505,\n",
      "    \"kind\": \"TEXT\"\n",
      "}\n"
     ]
    }
   ],
   "source": [
    "# batch add tasks\n",
    "task_ids = tt.task_manager.batch_add_tasks([{\"title\": \"test_task1\"}, {\"title\": \"test_task2\"}])\n",
    "for id in task_ids:\n",
    "    tt.task_manager.get_task_by_id(id)"
   ]
  },
  {
   "cell_type": "markdown",
   "metadata": {},
   "source": [
    "Example of completed JSON field for `https://api.ticktick.com/api/v2/batch/task` endpoint:\n",
    "\n",
    "```\n",
    "{\n",
    "    \"add\": [\n",
    "        {\n",
    "            \"items\": [],\n",
    "            \"reminders\": [],\n",
    "            \"exDate\": [],\n",
    "            \"dueDate\": null,\n",
    "            \"priority\": 0,\n",
    "            \"isAllDay\": true,\n",
    "            \"progress\": 0,\n",
    "            \"assignee\": null,\n",
    "            \"sortOrder\": -1099511627776,\n",
    "            \"startDate\": null,\n",
    "            \"isFloating\": false,\n",
    "            \"columnId\": \"657f73418f085683ee3dc366\",\n",
    "            \"status\": 0,\n",
    "            \"projectId\": \"657f723f8f085683ee3db584\",\n",
    "            \"kind\": \"TEXT\",\n",
    "            \"createdTime\": \"2023-12-17T22:57:22.000+0000\",\n",
    "            \"modifiedTime\": \"2023-12-17T22:57:22.000+0000\",\n",
    "            \"title\": \"\",\n",
    "            \"tags\": [],\n",
    "            \"timeZone\": \"America/New_York\",\n",
    "            \"content\": \"\",\n",
    "            \"id\": \"657f7cd2518841786580646d\"\n",
    "        }\n",
    "    ],\n",
    "    \"update\": [],\n",
    "    \"delete\": [],\n",
    "    \"addAttachments\": [],\n",
    "    \"updateAttachments\": [],\n",
    "    \"deleteAttachments\": []\n",
    "}\n",
    "```"
   ]
  },
  {
   "cell_type": "markdown",
   "metadata": {},
   "source": [
    "### Test Project Manager"
   ]
  },
  {
   "cell_type": "code",
   "execution_count": 4,
   "metadata": {},
   "outputs": [
    {
     "name": "stdout",
     "output_type": "stream",
     "text": [
      "https://api.ticktick.com/api/v2/project\n",
      "{\n",
      "    \"id\": \"657fac5e8f081632aa60adcf\",\n",
      "    \"name\": \"test_project\",\n",
      "    \"ownerId\": null,\n",
      "    \"viewMode\": null,\n",
      "    \"teamId\": null,\n",
      "    \"creatorRemoved\": false,\n",
      "    \"referId\": null,\n",
      "    \"kind\": null,\n",
      "    \"needAudit\": true,\n",
      "    \"openToTeam\": null,\n",
      "    \"teamMemberPermission\": null\n",
      "}\n",
      "https://api.ticktick.com/api/v2/projects\n",
      "{\n",
      "    \"id\": \"657fac5e8f081632aa60adcf\",\n",
      "    \"name\": \"test_project\",\n",
      "    \"isOwner\": true,\n",
      "    \"color\": null,\n",
      "    \"inAll\": true,\n",
      "    \"sortOrder\": 0,\n",
      "    \"sortOption\": null,\n",
      "    \"sortType\": null,\n",
      "    \"userCount\": 1,\n",
      "    \"etag\": \"ajol0pq1\",\n",
      "    \"modifiedTime\": \"2023-12-18T02:20:14.222+0000\",\n",
      "    \"closed\": null,\n",
      "    \"muted\": false,\n",
      "    \"transferred\": null,\n",
      "    \"groupId\": null,\n",
      "    \"viewMode\": null,\n",
      "    \"notificationOptions\": null,\n",
      "    \"teamId\": null,\n",
      "    \"permission\": null,\n",
      "    \"kind\": null,\n",
      "    \"timeline\": null,\n",
      "    \"needAudit\": true,\n",
      "    \"openToTeam\": null,\n",
      "    \"teamMemberPermission\": null,\n",
      "    \"source\": 1\n",
      "}\n",
      "https://api.ticktick.com/api/v2/column/project/657fac5e8f081632aa60adcf\n",
      "[]\n"
     ]
    },
    {
     "data": {
      "text/plain": [
       "[]"
      ]
     },
     "execution_count": 4,
     "metadata": {},
     "output_type": "execute_result"
    }
   ],
   "source": [
    "# create new project\n",
    "project_id = tt.project_manager.add_new_project({\"name\": \"test_project\"})\n",
    "tt.project_manager.get_project_by_id(project_id)\n",
    "tt.project_manager.get_project_sections_by_project_id(project_id)"
   ]
  },
  {
   "cell_type": "code",
   "execution_count": 5,
   "metadata": {},
   "outputs": [
    {
     "name": "stdout",
     "output_type": "stream",
     "text": [
      "https://api.ticktick.com/api/v2/column\n",
      "https://api.ticktick.com/api/v2/column/project/657fac5e8f081632aa60adcf\n",
      "[]\n",
      "{\n",
      "    \"id2etag\": {\n",
      "        \"657fac758f081632aa60b032\": \"r4o2a28y\"\n",
      "    },\n",
      "    \"id2error\": {}\n",
      "}\n",
      "https://api.ticktick.com/api/v2/column/project/657fac5e8f081632aa60adcf\n",
      "[\n",
      "    {\n",
      "        \"id\": \"657fac758f081632aa60b032\",\n",
      "        \"projectId\": \"657fac5e8f081632aa60adcf\",\n",
      "        \"name\": \"section1\",\n",
      "        \"createdTime\": \"2023-12-18T02:20:37.132+0000\",\n",
      "        \"modifiedTime\": \"2023-12-18T02:20:37.132+0000\",\n",
      "        \"etag\": \"r4o2a28y\"\n",
      "    }\n",
      "]\n"
     ]
    },
    {
     "data": {
      "text/plain": [
       "[{'id': '657fac758f081632aa60b032',\n",
       "  'projectId': '657fac5e8f081632aa60adcf',\n",
       "  'name': 'section1',\n",
       "  'createdTime': '2023-12-18T02:20:37.132+0000',\n",
       "  'modifiedTime': '2023-12-18T02:20:37.132+0000',\n",
       "  'etag': 'r4o2a28y'}]"
      ]
     },
     "execution_count": 5,
     "metadata": {},
     "output_type": "execute_result"
    }
   ],
   "source": [
    "# Add sections to created new project\n",
    "tt.project_manager.add_new_project_section(project_id, [\"section1\"])\n",
    "tt.project_manager.get_project_sections_by_project_id(project_id)"
   ]
  },
  {
   "cell_type": "code",
   "execution_count": 6,
   "metadata": {},
   "outputs": [
    {
     "name": "stdout",
     "output_type": "stream",
     "text": [
      "https://api.ticktick.com/api/v2/column\n",
      "https://api.ticktick.com/api/v2/column/project/657fac5e8f081632aa60adcf\n",
      "[\n",
      "    {\n",
      "        \"id\": \"657fac758f081632aa60b032\",\n",
      "        \"projectId\": \"657fac5e8f081632aa60adcf\",\n",
      "        \"name\": \"section1\",\n",
      "        \"createdTime\": \"2023-12-18T02:20:37.132+0000\",\n",
      "        \"modifiedTime\": \"2023-12-18T02:20:37.132+0000\",\n",
      "        \"etag\": \"r4o2a28y\"\n",
      "    }\n",
      "]\n",
      "{\n",
      "    \"id2etag\": {\n",
      "        \"657facb28f081632aa60b6d7\": \"byfutolx\",\n",
      "        \"657facb28f081632aa60b6d6\": \"e78gpkoq\"\n",
      "    },\n",
      "    \"id2error\": {\n",
      "        \"657fac758f081632aa60b032\": \"EXISTED\"\n",
      "    }\n",
      "}\n",
      "https://api.ticktick.com/api/v2/column/project/657fac5e8f081632aa60adcf\n",
      "[\n",
      "    {\n",
      "        \"id\": \"657facb28f081632aa60b6d7\",\n",
      "        \"projectId\": \"657fac5e8f081632aa60adcf\",\n",
      "        \"name\": \"section3\",\n",
      "        \"createdTime\": \"2023-12-18T02:21:38.844+0000\",\n",
      "        \"modifiedTime\": \"2023-12-18T02:21:38.844+0000\",\n",
      "        \"etag\": \"byfutolx\"\n",
      "    },\n",
      "    {\n",
      "        \"id\": \"657facb28f081632aa60b6d6\",\n",
      "        \"projectId\": \"657fac5e8f081632aa60adcf\",\n",
      "        \"name\": \"section2\",\n",
      "        \"createdTime\": \"2023-12-18T02:21:38.843+0000\",\n",
      "        \"modifiedTime\": \"2023-12-18T02:21:38.843+0000\",\n",
      "        \"etag\": \"e78gpkoq\"\n",
      "    },\n",
      "    {\n",
      "        \"id\": \"657fac758f081632aa60b032\",\n",
      "        \"projectId\": \"657fac5e8f081632aa60adcf\",\n",
      "        \"name\": \"section1\",\n",
      "        \"createdTime\": \"2023-12-18T02:20:37.132+0000\",\n",
      "        \"modifiedTime\": \"2023-12-18T02:20:37.132+0000\",\n",
      "        \"etag\": \"r4o2a28y\"\n",
      "    }\n",
      "]\n"
     ]
    },
    {
     "data": {
      "text/plain": [
       "[{'id': '657facb28f081632aa60b6d7',\n",
       "  'projectId': '657fac5e8f081632aa60adcf',\n",
       "  'name': 'section3',\n",
       "  'createdTime': '2023-12-18T02:21:38.844+0000',\n",
       "  'modifiedTime': '2023-12-18T02:21:38.844+0000',\n",
       "  'etag': 'byfutolx'},\n",
       " {'id': '657facb28f081632aa60b6d6',\n",
       "  'projectId': '657fac5e8f081632aa60adcf',\n",
       "  'name': 'section2',\n",
       "  'createdTime': '2023-12-18T02:21:38.843+0000',\n",
       "  'modifiedTime': '2023-12-18T02:21:38.843+0000',\n",
       "  'etag': 'e78gpkoq'},\n",
       " {'id': '657fac758f081632aa60b032',\n",
       "  'projectId': '657fac5e8f081632aa60adcf',\n",
       "  'name': 'section1',\n",
       "  'createdTime': '2023-12-18T02:20:37.132+0000',\n",
       "  'modifiedTime': '2023-12-18T02:20:37.132+0000',\n",
       "  'etag': 'r4o2a28y'}]"
      ]
     },
     "execution_count": 6,
     "metadata": {},
     "output_type": "execute_result"
    }
   ],
   "source": [
    "# Add additional new sections to current project\n",
    "tt.project_manager.add_new_project_section(project_id, [\"section2\", \"section3\"])\n",
    "tt.project_manager.get_project_sections_by_project_id(project_id)"
   ]
  },
  {
   "cell_type": "markdown",
   "metadata": {},
   "source": [
    "Example of completed field for `https://api.ticktick.com/api/v2/column` endpoint:\n",
    "\n",
    "```\n",
    "{\n",
    "    \"add\": [\n",
    "        {\n",
    "            \"id\": \"657f7fdf51884178658064ce\",\n",
    "            \"userId\": 118259505,\n",
    "            \"createdTime\": \"2023-12-17T23:10:23.329+0000\",\n",
    "            \"name\": \"Section 3\",\n",
    "            \"projectId\": \"657f723f8f085683ee3db584\",\n",
    "            \"sortOrder\": 0\n",
    "        }\n",
    "    ],\n",
    "    \"update\": [\n",
    "        {\n",
    "            \"id\": \"657f73268f085683ee3dc1af\",\n",
    "            \"projectId\": \"657f723f8f085683ee3db584\",\n",
    "            \"name\": \"Section1\",\n",
    "            \"createdTime\": \"2023-12-17T22:16:06.828+0000\",\n",
    "            \"modifiedTime\": \"2023-12-17T22:16:06.828+0000\",\n",
    "            \"etag\": \"waiot6f3\",\n",
    "            \"sortOrder\": 2199023255552\n",
    "        }\n",
    "    ],\n",
    "    \"delete\": []\n",
    "}\n",
    "```"
   ]
  },
  {
   "cell_type": "markdown",
   "metadata": {},
   "source": []
  }
 ],
 "metadata": {
  "kernelspec": {
   "display_name": "base",
   "language": "python",
   "name": "python3"
  },
  "language_info": {
   "codemirror_mode": {
    "name": "ipython",
    "version": 3
   },
   "file_extension": ".py",
   "mimetype": "text/x-python",
   "name": "python",
   "nbconvert_exporter": "python",
   "pygments_lexer": "ipython3",
   "version": "3.9.15"
  }
 },
 "nbformat": 4,
 "nbformat_minor": 2
}
